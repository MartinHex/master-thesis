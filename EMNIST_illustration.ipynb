{
 "cells": [
  {
   "cell_type": "code",
   "execution_count": null,
   "id": "3d3da01d",
   "metadata": {},
   "outputs": [],
   "source": [
    "import numpy as np\n",
    "import matplotlib.pyplot as plt\n",
    "\n",
    "from Dataloaders.Emnist62 import EMNIST as Dataloader"
   ]
  },
  {
   "cell_type": "code",
   "execution_count": null,
   "id": "40f3a01b",
   "metadata": {},
   "outputs": [],
   "source": [
    "clients_per_round = 100\n",
    "batch_size = 20\n",
    "dataloader = Dataloader()"
   ]
  },
  {
   "cell_type": "code",
   "execution_count": null,
   "id": "2dfc8478",
   "metadata": {},
   "outputs": [],
   "source": [
    "train_data = dataloader.get_training_raw_data()"
   ]
  },
  {
   "cell_type": "code",
   "execution_count": null,
   "id": "114707c9",
   "metadata": {},
   "outputs": [],
   "source": [
    "alphas = [10, 1, 0.1, 0.01]\n",
    "values = dict()\n",
    "iterations = 1000\n",
    "seed = 1234"
   ]
  },
  {
   "cell_type": "code",
   "execution_count": null,
   "id": "acb3b452",
   "metadata": {},
   "outputs": [],
   "source": [
    "for alpha in alphas:\n",
    "    print('Alpha: {}'.format(alpha))\n",
    "    np.random.seed(seed)\n",
    "    client_probabilities = np.random.dirichlet([alpha] * len(train_data))\n",
    "    cummulative_clients = []\n",
    "    for i in range(iterations):\n",
    "        round_index = np.random.choice(\n",
    "                        np.arange(len(train_data)),\n",
    "                        size = clients_per_round,\n",
    "                        replace = False,\n",
    "                        p = client_probabilities,\n",
    "                        )\n",
    "        cummulative_clients.extend(round_index)\n",
    "    s = [0]*len(train_data)\n",
    "    for c in cummulative_clients:\n",
    "        s[c] += 1\n",
    "    s = np.sort(s)\n",
    "    values[alpha] = s"
   ]
  },
  {
   "cell_type": "code",
   "execution_count": null,
   "id": "749eb7b9",
   "metadata": {},
   "outputs": [],
   "source": [
    "uniform = [(clients_per_round * iterations) / len(train_data)] * len(train_data)"
   ]
  },
  {
   "cell_type": "code",
   "execution_count": null,
   "id": "7e139a06",
   "metadata": {},
   "outputs": [],
   "source": [
    "fig,ax = plt.subplots(figsize=(10,8))\n",
    "for key in values:\n",
    "    ax.plot(np.arange(len(train_data)), values[key], label = 'Alpha: {}'.format(key))\n",
    "ax.plot(np.arange(len(train_data)), uniform , '--', alpha = 0.7, label ='Uniform',color='black')\n",
    "ax.legend(fontsize = 16)\n",
    "ax.set_ylabel('Frequency', fontsize = 24)\n",
    "ax.set_xlabel('Client', fontsize = 24)\n",
    "ax.set_title('Frequency of Clients Selected', fontsize = 30)\n",
    "ax.set_ylim([0,200])\n",
    "ax.tick_params(axis='both', which='major', labelsize=16)\n",
    "plt.show()"
   ]
  },
  {
   "cell_type": "code",
   "execution_count": null,
   "id": "181d9092",
   "metadata": {},
   "outputs": [],
   "source": [
    "client_sizes = []\n",
    "for client in train_data:\n",
    "    client_sizes.append(len(client))\n",
    "\n",
    "mean = np.mean(client_sizes)\n",
    "std = np.std(client_sizes)\n",
    "print(mean)\n",
    "print(std)\n",
    "\n",
    "fig,ax = plt.subplots(figsize=(10,8))\n",
    "ax.hist(client_sizes)\n",
    "ax.set_xlabel('Samples', fontsize = 24)\n",
    "ax.set_ylabel('Frequency', fontsize = 24)\n",
    "ax.set_title('Frequency of Samples Per Client', fontsize = 30)\n",
    "ax.tick_params(axis='both', which='major', labelsize=16)\n",
    "plt.show()"
   ]
  }
 ],
 "metadata": {
  "kernelspec": {
   "display_name": "Python 3",
   "language": "python",
   "name": "python3"
  },
  "language_info": {
   "codemirror_mode": {
    "name": "ipython",
    "version": 3
   },
   "file_extension": ".py",
   "mimetype": "text/x-python",
   "name": "python",
   "nbconvert_exporter": "python",
   "pygments_lexer": "ipython3",
   "version": "3.8.12"
  }
 },
 "nbformat": 4,
 "nbformat_minor": 5
}
