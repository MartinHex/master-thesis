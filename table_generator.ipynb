{
 "cells": [
  {
   "cell_type": "code",
   "execution_count": null,
   "id": "77352acc",
   "metadata": {},
   "outputs": [],
   "source": [
    "import json\n",
    "import pandas as pd\n",
    "import os\n",
    "from collections import defaultdict"
   ]
  },
  {
   "cell_type": "code",
   "execution_count": null,
   "id": "22869853",
   "metadata": {},
   "outputs": [],
   "source": [
    "alphas = [10, 1, 0.1, 0.01]\n",
    "experiment_path = './data/results/CIFAR100/alpha_{}/logs'\n",
    "metrics = [\n",
    "    'server_accuracy',\n",
    "    'server_recall',\n",
    "    'server_precision',\n",
    "]\n",
    "\n",
    "#round_threshold_one = 600\n",
    "#round_threshold_two = 1000\n",
    "#accuracy_threshold_one = 0.84\n",
    "#accuracy_threshold_two = 0.86\n",
    "\n",
    "round_threshold_one = 600\n",
    "round_threshold_two = 800\n",
    "accuracy_threshold_one = 0.3\n",
    "accuracy_threshold_two = 0.4"
   ]
  },
  {
   "cell_type": "code",
   "execution_count": null,
   "id": "8dd90233",
   "metadata": {},
   "outputs": [],
   "source": [
    "def read_json(path):\n",
    "    with open(path) as json_file:\n",
    "        return json.load(json_file)\n",
    "    \n",
    "def moving_average(data, length = 10):\n",
    "    moving_average_data = []\n",
    "    for i, x in enumerate(data):\n",
    "        if i < length:\n",
    "            moving_average_data.append(sum(data[0:(i+1)]) / (i + 1))\n",
    "        else:\n",
    "            moving_average_data.append(sum(data[(i+1-length):(i+1)]) / length)\n",
    "    return moving_average_data"
   ]
  },
  {
   "cell_type": "code",
   "execution_count": null,
   "id": "6af1b195",
   "metadata": {},
   "outputs": [],
   "source": [
    "data = defaultdict(dict)\n",
    "for alpha in alphas:\n",
    "    alpha_key = str(alpha).replace('.','')\n",
    "    temp_path = experiment_path.format(alpha_key)\n",
    "    algorithms = os.listdir(temp_path)\n",
    "    for alg in algorithms:\n",
    "        data[alpha_key][alg] = read_json(os.path.join(temp_path, alg))"
   ]
  },
  {
   "cell_type": "code",
   "execution_count": null,
   "id": "bff89c7a",
   "metadata": {},
   "outputs": [],
   "source": [
    "def find_threshold(average_metric, threshold):\n",
    "    metric_list = [i for (i, x) in enumerate(average_data) if x >= threshold]\n",
    "    if len(metric_list) > 0:\n",
    "        return metric_list[0]\n",
    "    else:\n",
    "        return '-'"
   ]
  },
  {
   "cell_type": "code",
   "execution_count": null,
   "id": "6cebec36",
   "metadata": {},
   "outputs": [],
   "source": [
    "round_threshold_one_data = []\n",
    "round_threshold_two_data = []\n",
    "accuracy_threshold_one_data = []\n",
    "accuracy_threshold_two_data = []\n",
    "metric_name = []\n",
    "alg_name = []\n",
    "\n",
    "r1 = 'Round {}'.format(round_threshold_one)\n",
    "r2 = 'Round {}'.format(round_threshold_two)\n",
    "a1 = '{}%'.format(int(accuracy_threshold_one * 100))\n",
    "a2 = '{}%'.format(int(accuracy_threshold_two * 100))\n",
    "\n",
    "table_dict = defaultdict(list)\n",
    "\n",
    "for alpha in alphas:\n",
    "    alpha_key = str(alpha).replace('.', '')\n",
    "    \n",
    "    for metric in metrics:\n",
    "        for alg in data[alpha_key]:\n",
    "            alg_name.append(alg)\n",
    "            metric_name.append(metric)\n",
    "            metric_data = data[alpha_key][alg][metric]\n",
    "            average_data = moving_average(metric_data)\n",
    "            \n",
    "            table_dict[r1].append('{:.3f}'.format(average_data[round_threshold_one - 1]))\n",
    "            table_dict[r2].append('{:.3f}'.format(average_data[round_threshold_two - 1]))\n",
    "            table_dict[a1].append(find_threshold(average_data, accuracy_threshold_one))\n",
    "            table_dict[a2].append(find_threshold(average_data, accuracy_threshold_two))\n",
    "            table_dict['alpha'].append(alpha)\n",
    "            table_dict['Algorithm'].append(alg)\n",
    "            table_dict['Metric'].append(metric)"
   ]
  },
  {
   "cell_type": "code",
   "execution_count": null,
   "id": "46c5f184",
   "metadata": {},
   "outputs": [],
   "source": [
    "df = pd.DataFrame(table_dict)"
   ]
  },
  {
   "cell_type": "code",
   "execution_count": null,
   "id": "bcd7ea11",
   "metadata": {},
   "outputs": [],
   "source": [
    "df = df.set_index(['Metric', 'Algorithm'])\n",
    "df = df.pivot(columns = 'alpha')\n",
    "df = df.reset_index()\n",
    "df = df.set_index(['Metric', 'Algorithm'])\n",
    "df.head(10)"
   ]
  },
  {
   "cell_type": "code",
   "execution_count": null,
   "id": "5aecd48e",
   "metadata": {},
   "outputs": [],
   "source": [
    "print(df.to_latex())"
   ]
  }
 ],
 "metadata": {
  "kernelspec": {
   "display_name": "Python 3",
   "language": "python",
   "name": "python3"
  },
  "language_info": {
   "codemirror_mode": {
    "name": "ipython",
    "version": 3
   },
   "file_extension": ".py",
   "mimetype": "text/x-python",
   "name": "python",
   "nbconvert_exporter": "python",
   "pygments_lexer": "ipython3",
   "version": "3.8.12"
  }
 },
 "nbformat": 4,
 "nbformat_minor": 5
}
