{
 "cells": [
  {
   "cell_type": "code",
   "execution_count": null,
   "id": "b692e13b",
   "metadata": {},
   "outputs": [],
   "source": [
    "import json\n",
    "import pandas as pd\n",
    "import os"
   ]
  },
  {
   "cell_type": "code",
   "execution_count": null,
   "id": "fc27cc58",
   "metadata": {},
   "outputs": [],
   "source": [
    "experiment_path = './data/results/EMNIST/alpha_inf/logs'\n",
    "metrics = [\n",
    "    'server_accuracy',\n",
    "    'server_recall',\n",
    "    'server_precision',\n",
    "]\n",
    "\n",
    "round_threshold_one = 600\n",
    "round_threshold_two = 1000\n",
    "accuracy_threshold_one = 0.84\n",
    "accuracy_threshold_two = 0.85"
   ]
  },
  {
   "cell_type": "code",
   "execution_count": null,
   "id": "45992c5e",
   "metadata": {},
   "outputs": [],
   "source": [
    "def read_json(path):\n",
    "    with open(path) as json_file:\n",
    "        return json.load(json_file)\n",
    "    \n",
    "def moving_average(data, length = 10):\n",
    "    moving_average_data = []\n",
    "    for i, x in enumerate(data):\n",
    "        if i < length:\n",
    "            moving_average_data.append(sum(data[0:(i+1)]) / (i + 1))\n",
    "        else:\n",
    "            moving_average_data.append(sum(data[(i+1-length):(i+1)]) / length)\n",
    "    return moving_average_data"
   ]
  },
  {
   "cell_type": "code",
   "execution_count": null,
   "id": "7f9f7ca1",
   "metadata": {},
   "outputs": [],
   "source": [
    "algorithms = os.listdir(experiment_path)\n",
    "data = dict()\n",
    "for alg in algorithms:\n",
    "    data[alg] = read_json(os.path.join(experiment_path, alg))"
   ]
  },
  {
   "cell_type": "code",
   "execution_count": null,
   "id": "fe90fc0c",
   "metadata": {},
   "outputs": [],
   "source": [
    "def find_threshold(average_metric, threshold):\n",
    "    metric_list = [i for (i, x) in enumerate(average_data) if x >= threshold]\n",
    "    if len(metric_list) > 0:\n",
    "        return metric_list[0]\n",
    "    else:\n",
    "        return '-'"
   ]
  },
  {
   "cell_type": "code",
   "execution_count": null,
   "id": "e65b6644",
   "metadata": {},
   "outputs": [],
   "source": [
    "round_threshold_one_data = []\n",
    "round_threshold_two_data = []\n",
    "accuracy_threshold_one_data = []\n",
    "accuracy_threshold_two_data = []\n",
    "metric_name = []\n",
    "alg_name = []\n",
    "for metric in metrics:\n",
    "    for alg in data:\n",
    "        alg_name.append(alg)\n",
    "        metric_name.append(metric)\n",
    "        metric_data = data[alg][metric]\n",
    "        average_data = moving_average(metric_data)\n",
    "        round_threshold_one_data.append('{:.3f}'.format(average_data[round_threshold_one - 1]))\n",
    "        round_threshold_two_data.append('{:.3f}'.format(average_data[round_threshold_two - 1]))\n",
    "        accuracy_threshold_one_data.append(find_threshold(average_data, accuracy_threshold_one))\n",
    "        accuracy_threshold_two_data.append(find_threshold(average_data, accuracy_threshold_two))"
   ]
  },
  {
   "cell_type": "code",
   "execution_count": null,
   "id": "60c3a001",
   "metadata": {},
   "outputs": [],
   "source": [
    "r1 = 'Round {}'.format(round_threshold_one)\n",
    "r2 = 'Round {}'.format(round_threshold_two)\n",
    "a1 = '{}%'.format(int(accuracy_threshold_one * 100))\n",
    "a2 = '{}%'.format(int(accuracy_threshold_two * 100))\n",
    "table_dict = dict()\n",
    "table_dict['Metric'] = metric_name\n",
    "table_dict['Algorithm'] = alg_name\n",
    "table_dict[r1] = round_threshold_one_data\n",
    "table_dict[r2] = round_threshold_two_data\n",
    "table_dict[a1] = accuracy_threshold_one_data\n",
    "table_dict[a2] = accuracy_threshold_two_data"
   ]
  },
  {
   "cell_type": "code",
   "execution_count": null,
   "id": "facda025",
   "metadata": {},
   "outputs": [],
   "source": [
    "df = pd.DataFrame(table_dict)"
   ]
  },
  {
   "cell_type": "code",
   "execution_count": null,
   "id": "a5ff2a86",
   "metadata": {},
   "outputs": [],
   "source": [
    "print(df.to_latex(index=False)) "
   ]
  }
 ],
 "metadata": {
  "kernelspec": {
   "display_name": "Python 3",
   "language": "python",
   "name": "python3"
  },
  "language_info": {
   "codemirror_mode": {
    "name": "ipython",
    "version": 3
   },
   "file_extension": ".py",
   "mimetype": "text/x-python",
   "name": "python",
   "nbconvert_exporter": "python",
   "pygments_lexer": "ipython3",
   "version": "3.8.12"
  }
 },
 "nbformat": 4,
 "nbformat_minor": 5
}
