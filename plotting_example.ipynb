{
 "cells": [
  {
   "cell_type": "code",
   "execution_count": null,
   "metadata": {},
   "outputs": [],
   "source": [
    "import matplotlib.pyplot as plt\n",
    "import json\n",
    "import numpy as np"
   ]
  },
  {
   "cell_type": "markdown",
   "metadata": {},
   "source": [
    "# Plot Accuracy and Loss \n",
    "\n",
    "Given correct use of the callback functions this will give a relatively simple way to plot the validation accuracy and loss of any experiment run.\n",
    "\n",
    "Requires data on the json form: {'server_accuracy': [...], 'server_loss': [...]}."
   ]
  },
  {
   "cell_type": "code",
   "execution_count": null,
   "metadata": {},
   "outputs": [],
   "source": [
    "EXPERIMENT_NAME = 'CIFAR-100'\n",
    "BURN_IN = 0\n",
    "\n",
    "# Include paths to the log files that you wish to include on the structure NAME:PATH\n",
    "data_paths = {\n",
    "    'PA': './data/logs/cifar_pa_23_3.json',\n",
    "    'AVG': './data/logs/cifar_avg_23_3.json',\n",
    "    'BE': './data/logs/cifar_be_23_3.json',\n",
    "    'KP': './data/logs/cifar_kp_23_3.json',\n",
    "}"
   ]
  },
  {
   "cell_type": "code",
   "execution_count": null,
   "metadata": {},
   "outputs": [],
   "source": [
    "def read_json(path):\n",
    "    with open(path) as json_file:\n",
    "        return json.load(json_file)\n",
    "\n",
    "def moving_average(data, length = 10):\n",
    "    moving_average_data = []\n",
    "    for i, x in enumerate(data):\n",
    "        if i < length:\n",
    "            moving_average_data.append(sum(data[0:(i+1)]) / (i + 1))\n",
    "        else:\n",
    "            moving_average_data.append(sum(data[(i+1-length):(i+1)]) / length)\n",
    "    return moving_average_data"
   ]
  },
  {
   "cell_type": "code",
   "execution_count": null,
   "metadata": {},
   "outputs": [],
   "source": [
    "# Read all data and assign a color to each data\n",
    "data = dict()\n",
    "colors = ['red', 'blue', 'orange', 'green', 'black']\n",
    "for i, key in enumerate(data_paths):\n",
    "    data[key] = read_json(data_paths[key])\n",
    "    data[key]['color'] = colors[i]"
   ]
  },
  {
   "cell_type": "code",
   "execution_count": null,
   "metadata": {},
   "outputs": [],
   "source": [
    "fig = plt.figure(figsize=(14, 10))\n",
    "alpha = 0.1 # Opacity of data points\n",
    "\n",
    "for key in data:\n",
    "    acc_data = data[key]['server_accuracy']\n",
    "    average_data = moving_average(acc_data)\n",
    "    \n",
    "    plt.plot(np.arange(len(acc_data)), acc_data, marker = 'x', alpha = alpha, color = data[key]['color'])\n",
    "    plt.plot(np.arange(len(average_data)), average_data, label = key, color = data[key]['color'])\n",
    "    \n",
    "plt.vlines(0, plt.ylim()[0], plt.ylim()[1], label = 'Burn-In', linestyles = 'dashed')\n",
    "plt.legend()\n",
    "plt.ylabel('Accuracy', fontsize = 20)\n",
    "plt.xlabel('Round', fontsize = 20)\n",
    "plt.title(EXPERIMENT_NAME + ' Accuracy', fontsize = 30)\n",
    "plt.show()"
   ]
  },
  {
   "cell_type": "code",
   "execution_count": null,
   "metadata": {},
   "outputs": [],
   "source": [
    "fig = plt.figure(figsize=(14, 10))\n",
    "for key in data:\n",
    "    loss_data = data[key]['server_loss']\n",
    "    average_data = moving_average(loss_data)\n",
    "    \n",
    "    plt.plot(np.arange(len(loss_data)), loss_data, marker = 'x', alpha = alpha, color = data[key]['color'])\n",
    "    plt.plot(np.arange(len(average_data)), average_data, label = key, color = data[key]['color'])\n",
    "    \n",
    "plt.vlines(0, plt.ylim()[0], plt.ylim()[1], label = 'Burn-In', linestyles = 'dashed')\n",
    "plt.legend()\n",
    "plt.ylabel('Loss', fontsize = 20)\n",
    "plt.xlabel('Round', fontsize = 20)\n",
    "plt.title(EXPERIMENT_NAME + ' Loss', fontsize = 30)\n",
    "plt.show()"
   ]
  },
  {
   "cell_type": "markdown",
   "metadata": {},
   "source": [
    "# Illustrate Client Sampling With Dirichlet Distribution\n",
    "\n",
    "For some datasets (mainly EMNIST-62) we wish to study how algorithms perform when clients are sampled non uniformly but rather some clients are more likely than others. To do this we have to option to sample client according to a probability densisty described by a dirichlet distribution such that pmf = np.random.dirichelt([alpha] * length). To explore just how frequent different clients are sampled you can visualize that below."
   ]
  },
  {
   "cell_type": "code",
   "execution_count": null,
   "metadata": {},
   "outputs": [],
   "source": [
    "# Set parameters so that they are identical to your experiment.\n",
    "ALPHA = 1\n",
    "TOTAL_NUMBER_OF_CLIENTS = 500\n",
    "CLIENTS_PER_ROUND = 20\n",
    "ROUNDS = 1000\n",
    "\n",
    "# Set the random seed for the sampling, this is the default seed in our code.\n",
    "np.random.seed(1234)\n",
    "\n",
    "client_index = np.arange(TOTAL_NUMBER_OF_CLIENTS)\n",
    "samples = dict()\n",
    "\n",
    "# If alpha is infinity we get a uniform distribution\n",
    "if alpha == 'inf':\n",
    "    probabilities = [1/TOTAL_NUMBER_OF_CLIENTS] * TOTAL_NUMBER_OF_CLIENTS\n",
    "else:\n",
    "    probabilities = np.random.dirichlet([ALPHA] * TOTAL_NUMBER_OF_CLIENTS)\n",
    "    \n",
    "index_total = []\n",
    "for i in range(ROUNDS):\n",
    "    index = np.random.choice(\n",
    "            client_index,\n",
    "            size = CLIENTS_PER_ROUND,\n",
    "            replace = False,\n",
    "            p = probabilities,\n",
    "            )\n",
    "    index_total.extend(index)"
   ]
  },
  {
   "cell_type": "code",
   "execution_count": null,
   "metadata": {},
   "outputs": [],
   "source": [
    "fig = plt.figure(figsize=(10, 10))\n",
    "plt.hist(index_total, bins = TOTAL_NUMBER_OF_CLIENTS)\n",
    "plt.xlabel('Client', fontsize = 20)\n",
    "plt.ylabel('Frequency', fontsize = 20)\n",
    "plt.title('Client Frequency', fontsize = 30)\n",
    "plt.show()"
   ]
  }
 ],
 "metadata": {
  "kernelspec": {
   "display_name": "Python 3",
   "language": "python",
   "name": "python3"
  },
  "language_info": {
   "codemirror_mode": {
    "name": "ipython",
    "version": 3
   },
   "file_extension": ".py",
   "mimetype": "text/x-python",
   "name": "python",
   "nbconvert_exporter": "python",
   "pygments_lexer": "ipython3",
   "version": "3.8.5"
  }
 },
 "nbformat": 4,
 "nbformat_minor": 4
}
